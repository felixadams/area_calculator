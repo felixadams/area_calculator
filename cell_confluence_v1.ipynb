import cv2
import numpy as np
from sklearn.cluster import KMeans
import matplotlib.pyplot as plt
import os


def kmeans_segmentation(image, num_clusters=3):
    # Reshape the image to a 2D array of pixels
    pixels = image.reshape(-1, 3)
    
    # Apply K-means clustering
    kmeans = KMeans(n_clusters=num_clusters, random_state = 42)
    kmeans.fit(pixels)
    
    # Get the cluster centers and labels
    cluster_centers = kmeans.cluster_centers_
    cluster_labels = kmeans.labels_
    
    # Reshape the labels to the original image shape
    segmented_image = cluster_centers[cluster_labels].reshape(image.shape)
    
    # Convert the segmented image to 8-bit unsigned integer format
    segmented_image_uint8 = segmented_image.astype(np.uint8)
    
    return segmented_image_uint8

def load_image(image_path):
    # Read the image
    return cv2.imread(image_path)

def blur_image(image, kernel_size=(17, 17)):
    # Apply Gaussian blurring to the image
    return cv2.GaussianBlur(image, kernel_size, 0)

def edge_detection(image):
    # Convert the image to grayscale
    gray_image = cv2.cvtColor(image, cv2.COLOR_BGR2GRAY)
    
    # Perform Canny edge detection
    return cv2.Canny(gray_image, 30, 100)

def display_images(images, titles, figsize=(15, 10)):
    num_images = len(images)
    num_rows = 2
    num_cols = num_images // num_rows
    
    plt.figure(figsize=figsize)
    
    for i in range(num_images):
        plt.subplot(num_rows, num_cols, i+1)
        plt.imshow(cv2.cvtColor(images[i], cv2.COLOR_BGR2RGB))
        plt.title(titles[i])
        plt.axis('off')
    
    plt.show()

def create_mask_from_edges(edges):
    # Create a binary mask where edges are white (255) and everything else is black (0)
    mask = cv2.threshold(edges, 0, 255, cv2.THRESH_BINARY)[1]
    
    return mask

def plot_mask(mask):
    plt.imshow(mask, cmap='gray')
    plt.title('Mask')
    plt.axis('off')
    plt.show()

# Function to save the mask as an image
def save_mask(mask, filename):
    # Write the mask to an image file
    cv2.imwrite(filename, mask)

def overlay_mask(image, mask, alpha_image=0.6, alpha_mask=1.0, color=(0, 255, 0)):
    # Resize mask to match image size if needed
    if image.shape[:2] != mask.shape[:2]:
        mask = cv2.resize(mask, (image.shape[1], image.shape[0]))
    
    # Convert mask to float and normalize
    mask = mask.astype(np.float32) / 255.0
    
    # Convert image to float and apply alpha
    image = image.astype(np.float32) * alpha_image
    
    # Modify the color channels of the mask
    mask_color = np.zeros_like(image)
    mask_color[:, :, 1] = mask[:, :, 0] * color[1]  # Green channel
    
    # Combine image and modified mask
    overlay = cv2.addWeighted(image, 1.0, mask_color, alpha_mask, 0)
    return overlay.astype(np.uint8)

def calculate_green_to_red_ratio(image):
    # Split the image into color channels
    b, g, r = cv2.split(image)
    
    # Calculate the total number of green pixels
    total_green_pixels = np.sum(g)
    
    # Calculate the total number of red pixels
    total_red_pixels = np.sum(r)
    
    # Calculate the ratio of green pixels to red pixels
    ratio = total_green_pixels / (total_red_pixels + total_green_pixels)
    
    # Convert the ratio to a percentage with three significant figures
    ratio_percentage = round(ratio * 100, 3)
    
    return ratio_percentage

def assess_image_quality(image):
    # Initialize dictionary to store quality metrics
    quality_metrics = {}

    # Sharpness metric: Laplacian variance
    laplacian_var = cv2.Laplacian(image, cv2.CV_64F).var()
    quality_metrics['Sharpness (Laplacian Variance)'] = laplacian_var

    # Noise metric: Signal-to-Noise Ratio (SNR)
    mean_intensity = np.mean(image)
    noise = image - mean_intensity
    noise_std = np.std(noise)
    snr = 20 * np.log10(mean_intensity / noise_std)
    quality_metrics['Signal-to-Noise Ratio (SNR)'] = snr

    # Contrast metric: Standard Deviation
    std_dev = np.std(image)
    quality_metrics['Contrast (Standard Deviation)'] = std_dev

    # Color metric: Colorfulness
    b, g, r = cv2.split(image)
    colorfulness = np.sqrt((np.mean(r) - np.mean(g)) ** 2 + (np.mean(r) - np.mean(b)) ** 2 + (np.mean(g) - np.mean(b)) ** 2)
    quality_metrics['Colorfulness'] = colorfulness

    return quality_metrics

def process_image_pipeline(original_image_path, processed_image_path, save_path):
    # Load the original and model images
    model_image = load_image(original_image_path)
    original_image = load_image(processed_image_path)
    
    # Assess image quality
    original_image_quality = assess_image_quality(original_image)
    
    # Blur the model image
    blurred_image = blur_image(model_image)
    
    # Perform k-means segmentation on the blurred image
    kmeans_image = kmeans_segmentation(blurred_image)
    
    # Calculate the green to red ratio in the k-means image
    green_to_red_ratio = calculate_green_to_red_ratio(kmeans_image)
    print("Green to Red Ratio in K-means Image:", green_to_red_ratio)
    
    # Perform edge detection on the k-means image
    edges = edge_detection(kmeans_image)
    
    # Create a mask from the edges
    mask = create_mask_from_edges(edges)
    
    # Save the mask as an image
    save_mask(mask, save_path)
    
    # Load the saved mask image
    mask_image = cv2.imread(save_path)
    
    # Overlay the modified mask with green outlines onto the original image
    overlay = overlay_mask(original_image, mask_image, color=(0, 255, 0))
    
    return original_image, model_image, blurred_image, kmeans_image, green_to_red_ratio, edges, overlay, original_image_quality



# Input and output directories
input_folder = r"C:\Users\felix\Documents\confluence_measure\input_photos"
output_folder = r"C:\Users\felix\Documents\confluence_measure\output_confluence_calculator"

# Iterate over each file in the input folder
for filename in os.listdir(input_folder):
    # Check if the file is an image (e.g., JPEG or PNG)
    if filename.endswith(".jpg") or filename.endswith(".png"):
        # Construct the full paths for the original and processed images
        original_image_path = os.path.join(output_folder, filename.replace(".jpg", "_probabilities.png"))
        processed_image_path = os.path.join(input_folder, filename)
        save_path = os.path.join(output_folder, "mask_" + filename.replace(".jpg", ".png"))
        
        # Process the image pipeline
        original_image, model_image, blurred_image, kmeans_image, green_to_red_ratio, edges, overlay, original_image_quality = process_image_pipeline(original_image_path, processed_image_path, save_path)
        # Print image quality metrics
        print("Original Image Quality Metrics:")
        for metric, value in original_image_quality.items():
            print(f"{metric}: {value}")
        # Display the processed images
        display_images([original_image, model_image, blurred_image, kmeans_image, edges, overlay], 
                       ["Original Image", "Model Image", "Blurred Image", "K-means Image", "Edge Image", "Overlay with Mask"])
